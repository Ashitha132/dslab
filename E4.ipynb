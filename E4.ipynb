{
 "cells": [
  {
   "cell_type": "code",
   "execution_count": 4,
   "id": "7bfc4012",
   "metadata": {},
   "outputs": [
    {
     "name": "stdout",
     "output_type": "stream",
     "text": [
      "a    100\n",
      "b    200\n",
      "c    300\n",
      "d    400\n",
      "e    500\n",
      "dtype: int64\n"
     ]
    }
   ],
   "source": [
    "import pandas as pd\n",
    "x = pd.Series([100, 200, 300, 400, 500], index =['a', 'b', 'c', 'd', 'e'])\n",
    "print(x)"
   ]
  },
  {
   "cell_type": "code",
   "execution_count": 3,
   "id": "76f9995f",
   "metadata": {},
   "outputs": [
    {
     "name": "stdout",
     "output_type": "stream",
     "text": [
      "DatetimeIndex(['2021-05-01', '2021-05-02', '2021-05-03', '2021-05-04',\n",
      "               '2021-05-05', '2021-05-06', '2021-05-07', '2021-05-08',\n",
      "               '2021-05-09', '2021-05-10', '2021-05-11', '2021-05-12'],\n",
      "              dtype='datetime64[ns]', freq='D')\n"
     ]
    }
   ],
   "source": [
    "import pandas as pd\n",
    "date=pd.date_range(start='05.01.2021',end='05.12.2021')\n",
    "print(date)"
   ]
  },
  {
   "cell_type": "code",
   "execution_count": 5,
   "id": "df03ac87",
   "metadata": {},
   "outputs": [
    {
     "name": "stdout",
     "output_type": "stream",
     "text": [
      "       Name  Age Sex\n",
      "0   Ashitha   21   F\n",
      "1  Greeshma   22   F\n",
      "2     Surya   23   M\n"
     ]
    }
   ],
   "source": [
    "import pandas as pd\n",
    "dict= {\n",
    "    'Name' : ['Ashitha', 'Greeshma', 'Surya'],\n",
    "    'Age' : [21, 22, 23],\n",
    "    'Sex' : ['F', 'F', 'M']\n",
    "}\n",
    "dframe = pd.DataFrame(dict)\n",
    "print(dframe)  "
   ]
  },
  {
   "cell_type": "code",
   "execution_count": 6,
   "id": "c38f420e",
   "metadata": {},
   "outputs": [
    {
     "name": "stdout",
     "output_type": "stream",
     "text": [
      "                  0               1         2        3\n",
      "0  New York Yankees    Acevedo Juan    900000  Pitcher\n",
      "1  New York Yankees  Anderson Jason    300000  Pitcher\n",
      "2  New York Yankees   Clemens Roger  10100000  Pitcher\n",
      "3  New York Yankees  Contreras Jose   5500000  Pitcher\n"
     ]
    }
   ],
   "source": [
    "import pandas as pd\n",
    "\n",
    "data = [['New York Yankees', 'Acevedo Juan', 900000, 'Pitcher'], \n",
    "        ['New York Yankees', 'Anderson Jason', 300000, 'Pitcher'], \n",
    "        ['New York Yankees', 'Clemens Roger', 10100000, 'Pitcher'], \n",
    "        ['New York Yankees', 'Contreras Jose', 5500000, 'Pitcher']]\n",
    "df = pd.DataFrame.from_records(data)\n",
    "print(df)"
   ]
  },
  {
   "cell_type": "code",
   "execution_count": 15,
   "id": "658ecd1c",
   "metadata": {},
   "outputs": [
    {
     "name": "stdout",
     "output_type": "stream",
     "text": [
      "   Rollno      Name\n",
      "0       1   Ashitha\n",
      "1       2  Greeshma\n",
      "2       3     Surya\n",
      "3       4     Elvin\n"
     ]
    }
   ],
   "source": [
    "import pandas as pdf\n",
    "df=pd.read_csv('textfile.csv')\n",
    "print(df)"
   ]
  },
  {
   "cell_type": "code",
   "execution_count": 8,
   "id": "c0851935",
   "metadata": {},
   "outputs": [
    {
     "name": "stdout",
     "output_type": "stream",
     "text": [
      "   RollNo      Name Marks\n",
      "0      18   Ashitha   100\n",
      "1      19    Aparna    80\n",
      "2      10  Greeshma    70\n",
      "3      20     Surya    89\n",
      "\n",
      "\n",
      "SORTED DATAFRAME\n",
      "   RollNo      Name Marks\n",
      "2      10  Greeshma    70\n",
      "0      18   Ashitha   100\n",
      "1      19    Aparna    80\n",
      "3      20     Surya    89\n"
     ]
    }
   ],
   "source": [
    "import pandas as pd\n",
    "details= {\n",
    "    'RollNo' : [18, 19, 10, 20],\n",
    "    'Name' : ['Ashitha', 'Aparna', 'Greeshma', 'Surya'],\n",
    "    'Marks' : ['100', '80', '70', '89']\n",
    "}\n",
    "dataframe = pd.DataFrame(details)\n",
    "print(dataframe)\n",
    "print()\n",
    "print()\n",
    "print('SORTED DATAFRAME')\n",
    "print(dataframe.sort_values(by=['RollNo'], ascending=True))"
   ]
  },
  {
   "cell_type": "code",
   "execution_count": 9,
   "id": "97bad144",
   "metadata": {},
   "outputs": [
    {
     "name": "stdout",
     "output_type": "stream",
     "text": [
      "  index  RollNo      Name Marks\n",
      "0     c      18   Ashitha   100\n",
      "1     b      19    Aparna    80\n",
      "2     a      10  Greeshma    70\n",
      "3     d      20     Surya    89\n"
     ]
    }
   ],
   "source": [
    "import pandas as pd\n",
    "details= {\n",
    "    'RollNo' : [18, 19, 10, 20],\n",
    "    'Name' : ['Ashitha', 'Aparna', 'Greeshma', 'Surya'],\n",
    "    'Marks' : ['100', '80', '70', '89']\n",
    "}\n",
    "index = {'a', 'b', 'c', 'd'}\n",
    "df = pd.DataFrame(details, index)\n",
    "df.reset_index(inplace = True)\n",
    "print(df)"
   ]
  },
  {
   "cell_type": "code",
   "execution_count": 10,
   "id": "49e544c6",
   "metadata": {},
   "outputs": [
    {
     "name": "stdout",
     "output_type": "stream",
     "text": [
      "   RollNo     Name Marks\n",
      "0      18   Anusha   100\n",
      "1      19  Ashitha    80\n"
     ]
    }
   ],
   "source": [
    "import pandas as pd\n",
    "details= {\n",
    "    'RollNo' : [18, 19, 10, 20],\n",
    "    'Name' : ['Anusha', 'Ashitha', 'Greeshma', 'Surya'],\n",
    "    'Marks' : ['100', '80', '70', '89']\n",
    "}\n",
    "df=pd.DataFrame(details)\n",
    "df1 = df.head(2)\n",
    "print(df1)"
   ]
  },
  {
   "cell_type": "code",
   "execution_count": 11,
   "id": "b0b71d73",
   "metadata": {},
   "outputs": [
    {
     "name": "stdout",
     "output_type": "stream",
     "text": [
      "    Name Occupation  Salary\n",
      "0   Anju     Doctor   20000\n",
      "1  Manju    Teacher   18000\n",
      "2   Arun     Doctor   45000\n",
      "3    Ali    Teacher   50000\n",
      "4   Anju   Engineer   40000\n",
      "\n",
      "\n",
      "Occupation\n",
      "Doctor      32500.0\n",
      "Engineer    40000.0\n",
      "Teacher     34000.0\n",
      "Name: Salary, dtype: float64\n"
     ]
    }
   ],
   "source": [
    "import pandas as pd\n",
    "data= {\n",
    "    'Name' : ['Anju','Manju','Arun','Ali','Anju'],\n",
    "    'Occupation':['Doctor','Teacher','Doctor','Teacher','Engineer'],\n",
    "    'Salary':[20000,18000,45000,50000,40000]\n",
    "}\n",
    "df=pd.DataFrame(data)\n",
    "print(df)\n",
    "print()\n",
    "print()\n",
    "sal_avg= df.groupby('Occupation')['Salary'].mean() \n",
    "print(sal_avg)"
   ]
  },
  {
   "cell_type": "code",
   "execution_count": 12,
   "id": "0f3c37a4",
   "metadata": {},
   "outputs": [
    {
     "name": "stdout",
     "output_type": "stream",
     "text": [
      "   RollNo      Name  Marks\n",
      "0      18   Ashitha    NaN\n",
      "1      19       Anu   80.0\n",
      "2      10  Greeshma    NaN\n",
      "3      20     Navya    NaN\n",
      "4      23      Anju   90.0\n",
      "\n",
      "\n",
      "   RollNo      Name  Marks\n",
      "0      18   Ashitha    0.0\n",
      "1      19       Anu   80.0\n",
      "2      10  Greeshma    0.0\n",
      "3      20     Navya    0.0\n",
      "4      23      Anju   90.0\n"
     ]
    }
   ],
   "source": [
    "import pandas as pd\n",
    "import numpy as np\n",
    "data= {\n",
    "    'RollNo' : [18, 19, 10, 20,23],\n",
    "    'Name' : ['Ashitha', 'Anu', 'Greeshma', 'Navya','Anju'],\n",
    "    'Marks':[np.nan,80,np.nan,np.nan,90]\n",
    "}\n",
    "df=pd.DataFrame(data)\n",
    "print(df)\n",
    "print()\n",
    "print()\n",
    "df_nullfill = df.fillna(0)\n",
    "print(df_nullfill)"
   ]
  },
  {
   "cell_type": "code",
   "execution_count": 16,
   "id": "1d366bf8",
   "metadata": {},
   "outputs": [
    {
     "name": "stdout",
     "output_type": "stream",
     "text": [
      "       cname   profit\n",
      "0      Wipro  1000000\n",
      "1  Cognizant  2000000\n",
      "2    Mphasis   -31110\n",
      "3        UST   -43000\n",
      "\n",
      "\n",
      "       cname  profit\n",
      "0      Wipro    True\n",
      "1  Cognizant    True\n",
      "2    Mphasis   False\n",
      "3        UST   False\n"
     ]
    }
   ],
   "source": [
    "\n",
    "data= {\n",
    "    'cname' : ['Wipro','Cognizant','Mphasis','UST'],\n",
    "    'profit' : [1000000,2000000,-31110,-43000]\n",
    "}\n",
    "df=pd.DataFrame(data)\n",
    "print(df)\n",
    "print()\n",
    "print()\n",
    "df['profit'] = df['profit'].apply(lambda x:x>0)\n",
    "print(df)"
   ]
  },
  {
   "cell_type": "code",
   "execution_count": 14,
   "id": "449328f9",
   "metadata": {},
   "outputs": [
    {
     "name": "stdout",
     "output_type": "stream",
     "text": [
      "    eid   ename  stipend\n",
      "0  1001    Anju    10000\n",
      "1  1002    Ashi    20000\n",
      "2  1003  Greesh    13000\n",
      "3  1004    Alis    15000\n",
      "\n",
      "\n",
      "    eid     designation\n",
      "0  1001  senior manager\n",
      "1  1002   sales manager\n",
      "2  1003         manager\n",
      "3  1004           clerk\n",
      "\n",
      "\n",
      "    eid   ename  stipend     designation\n",
      "0  1001    Anju    10000  senior manager\n",
      "1  1002    Ashi    20000   sales manager\n",
      "2  1003  Greesh    13000         manager\n",
      "3  1004    Alis    15000           clerk\n"
     ]
    }
   ],
   "source": [
    "data1= {\n",
    "    'eid' : [1001,1002,1003,1004],\n",
    "    'ename' : ['Anju','Ashi','Greesh','Alis'],\n",
    "    'stipend' : [10000,20000,13000,15000]\n",
    "}\n",
    "data2= {\n",
    "    'eid' : [1001,1002,1003,1004],\n",
    "    'designation' : ['senior manager','sales manager','manager','clerk']\n",
    "}\n",
    "df1=pd.DataFrame(data1)\n",
    "df2=pd.DataFrame(data2)\n",
    "print(df1)\n",
    "print()\n",
    "print()\n",
    "print(df2)\n",
    "print()\n",
    "print()\n",
    "dataframe = pd.merge(df1, df2, how = 'inner', on = 'eid')\n",
    "print(dataframe)"
   ]
  },
  {
   "cell_type": "code",
   "execution_count": null,
   "id": "0a5f7bbe",
   "metadata": {},
   "outputs": [],
   "source": []
  }
 ],
 "metadata": {
  "kernelspec": {
   "display_name": "Python 3 (ipykernel)",
   "language": "python",
   "name": "python3"
  },
  "language_info": {
   "codemirror_mode": {
    "name": "ipython",
    "version": 3
   },
   "file_extension": ".py",
   "mimetype": "text/x-python",
   "name": "python",
   "nbconvert_exporter": "python",
   "pygments_lexer": "ipython3",
   "version": "3.9.7"
  }
 },
 "nbformat": 4,
 "nbformat_minor": 5
}
