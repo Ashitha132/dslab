{
  "nbformat": 4,
  "nbformat_minor": 0,
  "metadata": {
    "colab": {
      "name": "Exercise5.ipynb",
      "provenance": []
    },
    "kernelspec": {
      "name": "python3",
      "display_name": "Python 3"
    },
    "language_info": {
      "name": "python"
    }
  },
  "cells": [
    {
      "cell_type": "markdown",
      "source": [
        "KNN"
      ],
      "metadata": {
        "id": "H_ud8zV0rM00"
      }
    },
    {
      "cell_type": "code",
      "execution_count": 2,
      "metadata": {
        "colab": {
          "base_uri": "https://localhost:8080/"
        },
        "id": "Tgu4ceGErH7G",
        "outputId": "5266fbd1-2d32-42e4-84ab-b0124b1f883d"
      },
      "outputs": [
        {
          "output_type": "stream",
          "name": "stdout",
          "text": [
            "Extracting Feature\n",
            "['sepal length (cm)', 'sepal width (cm)', 'petal length (cm)', 'petal width (cm)']\n",
            "\n",
            "Extracting Target\n",
            "['setosa' 'versicolor' 'virginica']\n"
          ]
        }
      ],
      "source": [
        "from sklearn.datasets import load_iris\n",
        "iris=load_iris()\n",
        "x=iris.data\n",
        "y=iris.target\n",
        "print(\"Extracting Feature\")\n",
        "f_name=iris.feature_names\n",
        "print(f_name)\n",
        "print(\"\\nExtracting Target\")\n",
        "t_name=iris.target_names\n",
        "print(t_name)\n"
      ]
    },
    {
      "cell_type": "code",
      "source": [
        "from pandas.core.common import random_state\n",
        "from sklearn.model_selection import train_test_split\n",
        "x_train,x_test,y_train,y_test=train_test_split(x,y,test_size=0.3,random_state=1)\n",
        "print(\"\\nNo.of rows and columns in test data\")\n",
        "print(x_test.shape)\n",
        "print(\"\\nNo.of rows and columns in train data\")\n",
        "print(x_train.shape)\n"
      ],
      "metadata": {
        "colab": {
          "base_uri": "https://localhost:8080/"
        },
        "id": "cjK-GfrSr4OI",
        "outputId": "67110e5c-a991-4795-b72d-f0aceb43220f"
      },
      "execution_count": 5,
      "outputs": [
        {
          "output_type": "stream",
          "name": "stdout",
          "text": [
            "\n",
            "No.of rows and columns in test data\n",
            "(45, 4)\n",
            "\n",
            "No.of rows and columns in train data\n",
            "(105, 4)\n"
          ]
        }
      ]
    },
    {
      "cell_type": "code",
      "source": [
        "from sklearn.neighbors import KNeighborsClassifier\n",
        "c_knn=KNeighborsClassifier(n_neighbors=3)\n",
        "c_knn.fit(x_train,y_train)\n",
        "y_pred=c_knn.predict(x_test)\n",
        "print(\"\\nPredicted output of test data\")\n",
        "print(y_pred)"
      ],
      "metadata": {
        "colab": {
          "base_uri": "https://localhost:8080/"
        },
        "id": "LgNbSVCTsvM8",
        "outputId": "43464721-2642-40be-8016-764b186a1272"
      },
      "execution_count": 6,
      "outputs": [
        {
          "output_type": "stream",
          "name": "stdout",
          "text": [
            "\n",
            "Predicted output of test data\n",
            "[0 1 1 0 2 1 2 0 0 2 1 0 2 1 1 0 1 1 0 0 1 1 1 0 2 1 0 0 1 2 1 2 1 2 2 0 1\n",
            " 0 1 2 2 0 1 2 1]\n"
          ]
        }
      ]
    },
    {
      "cell_type": "code",
      "source": [
        "from sklearn import metrics\n",
        "print('\\nAccuracy:',metrics.accuracy_score(y_test,y_pred))\n",
        "sample=[[5,5,3,22]]\n",
        "pred=c_knn.predict(sample)\n",
        "pred_v=[iris.target_names[p]for p in pred]\n",
        "print('\\nPredicted values:',pred_v)"
      ],
      "metadata": {
        "colab": {
          "base_uri": "https://localhost:8080/"
        },
        "id": "7mg4iOB0ts8V",
        "outputId": "27db6f92-ca7b-40c3-b3fe-283273a27e4a"
      },
      "execution_count": 9,
      "outputs": [
        {
          "output_type": "stream",
          "name": "stdout",
          "text": [
            "\n",
            "Accuracy: 0.9777777777777777\n",
            "\n",
            "Predicted values: ['virginica']\n"
          ]
        }
      ]
    },
    {
      "cell_type": "code",
      "source": [
        ""
      ],
      "metadata": {
        "id": "6BpZRWNSucDf"
      },
      "execution_count": null,
      "outputs": []
    }
  ]
}